{
 "cells": [
  {
   "cell_type": "code",
   "execution_count": 18,
   "id": "3c892250",
   "metadata": {},
   "outputs": [],
   "source": [
    "# Import necessary libraries\n",
    "from collections import defaultdict\n",
    "\n",
    "# Define the documents\n",
    "documents = [\n",
    "    \"I love cats . cats are cute pets.\",\n",
    "    \"Dogs are loyal. Dogs are good friends.\",\n",
    "    \"Birds can sing. Birds fly in the sky.\",\n",
    "    \"Fish live underwater. Fish come in many colors.\"\n",
    "]"
   ]
  },
  {
   "cell_type": "markdown",
   "id": "2a685610",
   "metadata": {},
   "source": [
    "In this section, we define and create unigram models for the documents. Unigrams are single words or terms, and a unigram model represents the probability distribution of individual terms in the document. The unigram_model function counts the occurrences of each term in a document, calculates the probabilities, and returns the unigram model. We create unigram models for all documents in the collection."
   ]
  },
  {
   "cell_type": "markdown",
   "id": "a8d0e623",
   "metadata": {},
   "source": [
    "# Create Unigram Models"
   ]
  },
  {
   "cell_type": "code",
   "execution_count": 3,
   "id": "2d589155",
   "metadata": {},
   "outputs": [],
   "source": [
    "def unigram_model(document):\n",
    "    words = document.split()\n",
    "    total_words = len(words)\n",
    "    unigram_counts = defaultdict(int)\n",
    "    for word in words:\n",
    "        unigram_counts[word] += 1\n",
    "    unigram_model = {word: count / total_words for word, count in unigram_counts.items()}\n",
    "    return unigram_model"
   ]
  },
  {
   "cell_type": "code",
   "execution_count": 4,
   "id": "9c571b22",
   "metadata": {},
   "outputs": [],
   "source": [
    "# Create unigram models for all documents\n",
    "unigram_models = [unigram_model(doc) for doc in documents]"
   ]
  },
  {
   "cell_type": "code",
   "execution_count": 5,
   "id": "a16bdec3",
   "metadata": {},
   "outputs": [
    {
     "data": {
      "text/plain": [
       "[{'I': 0.125,\n",
       "  'love': 0.125,\n",
       "  'cats': 0.25,\n",
       "  '.': 0.125,\n",
       "  'are': 0.125,\n",
       "  'cute': 0.125,\n",
       "  'pets.': 0.125},\n",
       " {'Dogs': 0.2857142857142857,\n",
       "  'are': 0.2857142857142857,\n",
       "  'loyal.': 0.14285714285714285,\n",
       "  'good': 0.14285714285714285,\n",
       "  'friends.': 0.14285714285714285},\n",
       " {'Birds': 0.25,\n",
       "  'can': 0.125,\n",
       "  'sing.': 0.125,\n",
       "  'fly': 0.125,\n",
       "  'in': 0.125,\n",
       "  'the': 0.125,\n",
       "  'sky.': 0.125},\n",
       " {'Fish': 0.25,\n",
       "  'live': 0.125,\n",
       "  'underwater.': 0.125,\n",
       "  'come': 0.125,\n",
       "  'in': 0.125,\n",
       "  'many': 0.125,\n",
       "  'colors.': 0.125}]"
      ]
     },
     "execution_count": 5,
     "metadata": {},
     "output_type": "execute_result"
    }
   ],
   "source": [
    "unigram_models"
   ]
  },
  {
   "cell_type": "code",
   "execution_count": 6,
   "id": "faa6e564",
   "metadata": {},
   "outputs": [],
   "source": [
    "#we have a query \n",
    "query = \"I like cats and dogs\""
   ]
  },
  {
   "cell_type": "code",
   "execution_count": 7,
   "id": "85f84e9b",
   "metadata": {},
   "outputs": [],
   "source": [
    "def calculate_query_probability(query, document_model):\n",
    "    # Tokenize the query into words\n",
    "    query_words = query.split()\n",
    "    \n",
    "    # Initialize the probability for the entire query\n",
    "    query_probability = 1.0\n",
    "    \n",
    "    # Calculate the probability for each term in the query\n",
    "    for word in query_words:\n",
    "        if word in document_model:\n",
    "            query_probability *= document_model[word]\n",
    "        else:\n",
    "            query_probability = 0.0\n",
    "            break\n",
    "    \n",
    "    return query_probability"
   ]
  },
  {
   "cell_type": "code",
   "execution_count": 10,
   "id": "25934062",
   "metadata": {},
   "outputs": [],
   "source": [
    "query_probability = calculate_query_probability(query, unigram_models)"
   ]
  },
  {
   "cell_type": "code",
   "execution_count": 11,
   "id": "e57e1768",
   "metadata": {},
   "outputs": [
    {
     "data": {
      "text/plain": [
       "0.0"
      ]
     },
     "execution_count": 11,
     "metadata": {},
     "output_type": "execute_result"
    }
   ],
   "source": [
    "query_probability"
   ]
  },
  {
   "cell_type": "markdown",
   "id": "f2641c2c",
   "metadata": {},
   "source": [
    "## Your task"
   ]
  },
  {
   "cell_type": "code",
   "execution_count": 15,
   "id": "771db8aa",
   "metadata": {},
   "outputs": [],
   "source": [
    "# Use Laplace Smoothing for this problem\n",
    "\n",
    "# https://www.exploredatabase.com/2020/10/explain-add-1-laplace-smoothing-with-example.html\n",
    "\n",
    "def calculate_query_probability(query, document_model):\n",
    "    # Tokenize the query into words\n",
    "    query_words = query.split()\n",
    "\n",
    "    # Initialize the probability for the entire query\n",
    "    query_probability = 1.0\n",
    "\n",
    "    # Calculate the probability for each term in the query\n",
    "    for word in query_words:\n",
    "        if word in document_model:\n",
    "            query_probability *= document_model[word]\n",
    "    # Use Laplace smoothing to calculate the probability of unseen words\n",
    "        else:\n",
    "            query_probability *= 1 / (len(document_model) + 1)\n",
    "            break\n",
    "\n",
    "    return query_probability\n",
    "\n",
    "# Calculate the query probability for the query \"I like cats and dogs\"\n",
    "query = \"I like cats and dogs\"\n",
    "query_probability = calculate_query_probability(query, unigram_models)\n"
   ]
  },
  {
   "cell_type": "code",
   "execution_count": 16,
   "id": "ca4e252e",
   "metadata": {},
   "outputs": [
    {
     "data": {
      "text/plain": [
       "0.2"
      ]
     },
     "execution_count": 16,
     "metadata": {},
     "output_type": "execute_result"
    }
   ],
   "source": [
    "query_probability\n"
   ]
  },
  {
   "cell_type": "code",
   "execution_count": 20,
   "id": "a7f2705d",
   "metadata": {},
   "outputs": [
    {
     "name": "stdout",
     "output_type": "stream",
     "text": [
      "2.1882987290360987e-06\n"
     ]
    }
   ],
   "source": [
    "# create a bigram model & apply smoothing method\n",
    "# Import necessary libraries\n",
    "from collections import defaultdict\n",
    "\n",
    "# Define the bigram model function\n",
    "bigrams = set()\n",
    "bigram_model = bigram_model(documents)\n",
    "\n",
    "\n",
    "def bigram_model(documents):\n",
    "    bigram_counts = defaultdict(int)\n",
    "    for document in documents:\n",
    "        words = document.split()\n",
    "        for i in range(len(words) - 1):\n",
    "            bigram_counts[(words[i], words[i + 1])] += 1\n",
    "\n",
    "    # Apply Laplace smoothing to calculate the probability of unseen bigrams\n",
    "    bigram_model = {}\n",
    "    for bigram, count in bigram_counts.items():\n",
    "        bigram_model[bigram] = (count + 1) / \\\n",
    "            (len(bigram_counts) + len(bigrams))\n",
    "\n",
    "    return bigram_model\n",
    "\n",
    "\n",
    "# Create a bigram model for the documents\n",
    "bigram_model = bigram_model(documents)\n",
    "\n",
    "# Apply the bigram model to the query \"I like cats and dogs\"\n",
    "query = \"I like cats and dogs\"\n",
    "query_words = query.split()\n",
    "\n",
    "query_probability = 1.0\n",
    "for i in range(len(query_words) - 1):\n",
    "    bigram = (query_words[i], query_words[i + 1])\n",
    "    if bigram in bigram_model:\n",
    "        query_probability *= bigram_model[bigram]\n",
    "    else:\n",
    "        query_probability *= 1 / (len(bigram_model) + len(bigrams))\n",
    "\n",
    "print(query_probability)\n"
   ]
  }
 ],
 "metadata": {
  "kernelspec": {
   "display_name": "Python 3",
   "language": "python",
   "name": "python3"
  },
  "language_info": {
   "codemirror_mode": {
    "name": "ipython",
    "version": 3
   },
   "file_extension": ".py",
   "mimetype": "text/x-python",
   "name": "python",
   "nbconvert_exporter": "python",
   "pygments_lexer": "ipython3",
   "version": "3.9.12"
  }
 },
 "nbformat": 4,
 "nbformat_minor": 5
}
